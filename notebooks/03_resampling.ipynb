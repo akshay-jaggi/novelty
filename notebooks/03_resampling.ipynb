{
 "cells": [
  {
   "cell_type": "code",
   "execution_count": 1,
   "id": "78e31c5b-dc40-43f0-aa55-f0206d1cca4a",
   "metadata": {},
   "outputs": [
    {
     "name": "stderr",
     "output_type": "stream",
     "text": [
      "/Users/akshay/opt/anaconda3/envs/novelty/lib/python3.9/site-packages/tqdm/auto.py:22: TqdmWarning: IProgress not found. Please update jupyter and ipywidgets. See https://ipywidgets.readthedocs.io/en/stable/user_install.html\n",
      "  from .autonotebook import tqdm as notebook_tqdm\n"
     ]
    }
   ],
   "source": [
    "import math\n",
    "from matplotlib import pyplot as plt\n",
    "import numpy as np\n",
    "import pandas as pd\n",
    "import seaborn as sns\n",
    "import timeit\n",
    "from tqdm import tqdm\n",
    "\n",
    "import torch\n",
    "import torch.nn as nn\n",
    "import torch.nn.functional as F\n",
    "import torch.optim as optim\n",
    "from torch.utils.data import Dataset\n",
    "from torchvision import datasets, transforms\n",
    "\n",
    "from novelty.models.dists import benford_dist, instrumental_dist\n",
    "from novelty.models.mlp import MLP\n",
    "from novelty.models.util import train_streaming_unbalanced, test, train_streaming\n",
    "from novelty.visualization.models import plot_accs"
   ]
  },
  {
   "cell_type": "code",
   "execution_count": 2,
   "id": "87baab10-9775-4689-8758-b4b8afe11f86",
   "metadata": {},
   "outputs": [],
   "source": [
    "def get_labels_and_class_counts(labels_list):\n",
    "    '''\n",
    "    Calculates the counts of all unique classes.\n",
    "    '''\n",
    "    labels = np.array(labels_list)\n",
    "    _, class_counts = np.unique(labels, return_counts=True)\n",
    "    return labels, class_counts\n",
    "\n",
    "class ImbalancedMNIST(Dataset):\n",
    "    def __init__(self, imbal_class_prop, root, train, download, transform):\n",
    "        self.dataset = datasets.MNIST(root, train=train, download=download, transform=transform)\n",
    "        self.train = train\n",
    "        self.imbal_class_prop = imbal_class_prop\n",
    "        self.idxs = self.resample()\n",
    "\n",
    "    def get_labels_and_class_counts(self):\n",
    "        return self.labels, self.imbal_class_counts\n",
    "\n",
    "    def resample(self, nb_classes = 10):\n",
    "        '''\n",
    "        Resample the indices to create an artificially imbalanced dataset.\n",
    "        '''\n",
    "        targets, class_counts = get_labels_and_class_counts(self.dataset.targets)\n",
    "            \n",
    "        # Get class indices for resampling\n",
    "        class_indices = [np.where(targets == i)[0] for i in range(nb_classes)]\n",
    "        # Reduce class count by proportion\n",
    "        self.imbal_class_counts = [int(count * prop) for count, prop in zip(class_counts, self.imbal_class_prop)]\n",
    "        # Get class indices for reduced class count\n",
    "        idxs = []\n",
    "        for c in range(nb_classes):\n",
    "            imbal_class_count = self.imbal_class_counts[c]\n",
    "            idxs.append(class_indices[c][:imbal_class_count])\n",
    "        idxs = np.hstack(idxs)\n",
    "        self.labels = targets[idxs]\n",
    "        return idxs\n",
    "\n",
    "    def __getitem__(self, index):\n",
    "        img, target = self.dataset[self.idxs[index]]\n",
    "        return img, target\n",
    "\n",
    "    def __len__(self):\n",
    "        return len(self.idxs)"
   ]
  },
  {
   "cell_type": "code",
   "execution_count": 9,
   "id": "cea1250e-0f8f-4555-b85f-145605d0bf9d",
   "metadata": {},
   "outputs": [],
   "source": [
    "device = 'cpu'\n",
    "train_kwargs = {'batch_size': 1, \n",
    "               'shuffle': True}\n",
    "test_kwargs = {'batch_size': 1000,\n",
    "              'shuffle':True}\n",
    "transform=transforms.Compose([\n",
    "    transforms.ToTensor(),\n",
    "    transforms.Normalize((0.1307,), (0.3081,)) # image mean and std \n",
    "    ])"
   ]
  },
  {
   "cell_type": "code",
   "execution_count": 10,
   "id": "9145dd7b-f432-4d83-8cb8-8dd3d1c25d6b",
   "metadata": {},
   "outputs": [],
   "source": [
    "#benford_dist(torch.arange(10))*(1/max(benford_dist(torch.arange(10))))\n",
    "imbal_class_prop = torch.tensor(5*[0.1] + 5*[1.0])\n",
    "train_dataset_imbalanced = ImbalancedMNIST(\n",
    "    imbal_class_prop, \n",
    "    root='../data/raw', \n",
    "    train=True, \n",
    "    download=False,\n",
    "    transform = transform\n",
    ")\n",
    "test_dataset_imbalanced = ImbalancedMNIST(\n",
    "    imbal_class_prop, \n",
    "    root='../data/raw', \n",
    "    train=False, \n",
    "    download=False,\n",
    "    transform = transform\n",
    ")"
   ]
  },
  {
   "cell_type": "code",
   "execution_count": 11,
   "id": "ccb33da9-4778-40aa-9fb6-bdcd69503278",
   "metadata": {},
   "outputs": [],
   "source": [
    "train_loader = torch.utils.data.DataLoader(train_dataset_imbalanced,**train_kwargs)\n",
    "test_loader = torch.utils.data.DataLoader(test_dataset_imbalanced, **test_kwargs)"
   ]
  },
  {
   "cell_type": "code",
   "execution_count": 12,
   "id": "c05dbc2f-94a0-447b-a43a-f2dc77bf520e",
   "metadata": {},
   "outputs": [],
   "source": [
    "examples_per_epoch = 5000\n",
    "batches_per_epoch = examples_per_epoch//train_kwargs['batch_size']\n",
    "epochs = len(train_loader.dataset)//examples_per_epoch"
   ]
  },
  {
   "cell_type": "code",
   "execution_count": 13,
   "id": "d808e2c3-ca54-42a3-b875-f8d4dc207392",
   "metadata": {},
   "outputs": [
    {
     "name": "stderr",
     "output_type": "stream",
     "text": [
      "100%|█████████████████████████████████████████████████████████████████████████████████████████████████████████████████████████████████████████| 6/6 [00:32<00:00,  5.47s/it]\n"
     ]
    }
   ],
   "source": [
    "model = MLP().to(device)\n",
    "optimizer = optim.SGD(model.parameters(), lr = 0.01)\n",
    "kept_all = torch.zeros(10)\n",
    "train_accs_normal = []\n",
    "test_accs_normal = []\n",
    "\n",
    "for epoch in tqdm(range(1, epochs + 1)):\n",
    "    train_loss, train_acc, kept = train_streaming(model, device, train_loader, optimizer, epoch,\n",
    "                                                 batches_per_epoch)\n",
    "    test_loss, test_acc = test(model, device, test_loader)\n",
    "    train_accs_normal.append(train_acc)\n",
    "    test_accs_normal.append(test_acc)\n",
    "    kept_all = kept_all + kept"
   ]
  },
  {
   "cell_type": "code",
   "execution_count": 14,
   "id": "5f15d9c7-65fd-4a74-8b08-627b195fe7be",
   "metadata": {},
   "outputs": [
    {
     "data": {
      "image/png": "[encoded data removed]",
      "text/plain": [
       "<Figure size 432x288 with 1 Axes>"
      ]
     },
     "metadata": {
      "needs_background": "light"
     },
     "output_type": "display_data"
    }
   ],
   "source": [
    "plot_accs(train_accs_normal)"
   ]
  },
  {
   "cell_type": "markdown",
   "id": "3b115cf9-40c5-4f83-ae53-02980efb012d",
   "metadata": {},
   "source": [
    "# Weighted Resampling"
   ]
  },
  {
   "cell_type": "code",
   "execution_count": null,
   "id": "360593b5-ed69-4236-8abe-4e05539bc19d",
   "metadata": {},
   "outputs": [],
   "source": [
    "weights = 1. / torch.tensor(train_class_counts, dtype=torch.float)\n",
    "samples_weights = weights[train_targets]\n",
    "for name, count, weight in zip(class_names, train_class_counts, weights):\n",
    "    print('Class {}: {} samples, {:.5} weight'.format(name, count, weight))"
   ]
  },
  {
   "cell_type": "code",
   "execution_count": null,
   "id": "29f618e6-a12b-42fc-94da-4f640e1da2b0",
   "metadata": {},
   "outputs": [],
   "source": [
    "from torch.utils.data.sampler import WeightedRandomSampler\n",
    "\n",
    "sampler = WeightedRandomSampler(\n",
    "    weights=samples_weights,\n",
    "    num_samples=len(samples_weights),\n",
    "    replacement=True)"
   ]
  }
 ],
 "metadata": {
  "kernelspec": {
   "display_name": "Python 3 (ipykernel)",
   "language": "python",
   "name": "python3"
  },
  "language_info": {
   "codemirror_mode": {
    "name": "ipython",
    "version": 3
   },
   "file_extension": ".py",
   "mimetype": "text/x-python",
   "name": "python",
   "nbconvert_exporter": "python",
   "pygments_lexer": "ipython3",
   "version": "3.9.12"
  }
 },
 "nbformat": 4,
 "nbformat_minor": 5
}
